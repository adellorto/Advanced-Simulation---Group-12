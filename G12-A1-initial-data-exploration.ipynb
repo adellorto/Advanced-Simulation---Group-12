{
 "cells": [
  {
   "cell_type": "code",
   "execution_count": null,
   "id": "02f7f8d5-d5a9-40ca-9248-8455f9638e96",
   "metadata": {},
   "outputs": [],
   "source": []
  }
 ],
 "metadata": {
  "kernelspec": {
   "display_name": "Python 3 (ipykernel)",
   "language": "python",
   "name": "python3"
  },
  "language_info": {
   "codemirror_mode": {
    "name": "ipython",
    "version": 3
   },
   "file_extension": ".py",
   "mimetype": "text/x-python",
   "name": "python",
   "nbconvert_exporter": "python",
   "pygments_lexer": "ipython3",
   "version": "3.13.2"
  }
 },
 "nbformat": 4,
 "nbformat_minor": 5
}
