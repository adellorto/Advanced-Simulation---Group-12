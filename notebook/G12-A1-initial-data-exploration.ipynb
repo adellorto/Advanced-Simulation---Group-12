{
 "cells": [
  {
   "cell_type": "markdown",
   "id": "4b84d22a-743c-4db6-a2f8-ddcef11b694a",
   "metadata": {},
   "source": [
    "# Roads file: Resolving Distances between LRP points\n",
    "\n",
    "This part of the code will focus on the _\"_roads.tsv\"_ file and implement a solution to eliminate noise from the data and ultimately improve the simulation output. "
   ]
  },
  {
   "cell_type": "code",
   "execution_count": 1,
   "id": "02f7f8d5-d5a9-40ca-9248-8455f9638e96",
   "metadata": {},
   "outputs": [],
   "source": [
    "#Importing necessary Libraries\n",
    "import numpy as np\n",
    "import pandas as pd\n",
    "import matplotlib.pyplot as plt"
   ]
  },
  {
   "cell_type": "code",
   "execution_count": null,
   "id": "91a51a76-af78-43e9-9e1b-e0fc0356ff55",
   "metadata": {},
   "outputs": [],
   "source": [
    "#Uploading data\n",
    "#A copy of the raw data file is used to prevent damage of original information\n"
   ]
  }
 ],
 "metadata": {
  "kernelspec": {
   "display_name": "Python 3 (ipykernel)",
   "language": "python",
   "name": "python3"
  },
  "language_info": {
   "codemirror_mode": {
    "name": "ipython",
    "version": 3
   },
   "file_extension": ".py",
   "mimetype": "text/x-python",
   "name": "python",
   "nbconvert_exporter": "python",
   "pygments_lexer": "ipython3",
   "version": "3.13.2"
  }
 },
 "nbformat": 4,
 "nbformat_minor": 5
}
