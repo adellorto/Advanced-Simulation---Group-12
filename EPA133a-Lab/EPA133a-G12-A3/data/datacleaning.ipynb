{
 "cells": [
  {
   "metadata": {
    "ExecuteTime": {
     "end_time": "2025-03-21T14:50:07.157518Z",
     "start_time": "2025-03-21T14:50:06.598137Z"
    }
   },
   "cell_type": "code",
   "source": [
    "import pandas as pd\n",
    "\n",
    "df = pd.read_csv(\"/Users/lorenzo/PycharmProjects/Advanced-Simulation---Group-12 (1)/EPA133a-Lab/EPA133a-G12-A2/data/_roads3.csv\")\n",
    "\n",
    "df['chainage'] = df['chainage'].astype(float)\n",
    "\n",
    "# Calculate total road length by subtracting the minimum chainage from the maximum chainage (for each roadd)\n",
    "road_lengths = df.groupby('road')['chainage'].agg(lambda x: x.max() - x.min())\n",
    "\n",
    "# new column \"length\"\n",
    "df['length'] = df['road'].map(road_lengths)\n",
    "\n",
    "# Filter the DataFrame to only include roads where the total length is greater than 25 km\n",
    "filtered_df = df[df['length'] > 25]\n",
    "\n",
    "# Save to a new CSV file\n",
    "filtered_df.to_csv(\"filtered_roads_gt_25km.csv\", index=False)\n",
    "\n",
    "print(filtered_df)\n"
   ],
   "id": "133354e85257c0f0",
   "outputs": [
    {
     "name": "stdout",
     "output_type": "stream",
     "text": [
      "        road  chainage      lrp        lat        lon  gap       type  \\\n",
      "0         N1     0.000     LRPS  23.706028  90.443333  NaN     Others   \n",
      "1         N1     0.814    LRPSa  23.702917  90.450417  NaN    Culvert   \n",
      "2         N1     0.822    LRPSb  23.702778  90.450472  NaN  CrossRoad   \n",
      "3         N1     1.000   LRP001  23.702139  90.451972  NaN     KmPost   \n",
      "4         N1     2.000   LRP002  23.697889  90.460583  NaN     KmPost   \n",
      "...      ...       ...      ...        ...        ...  ...        ...   \n",
      "51269  Z8913    23.000   LRP023  22.360750  90.832777  NaN     KmPost   \n",
      "51270  Z8913    23.088  LRP023a  22.361500  90.832833  NaN    Culvert   \n",
      "51271  Z8913    24.000   LRP024  22.368916  90.836639  NaN     KmPost   \n",
      "51272  Z8913    25.000   LRP025  22.377305  90.839972  NaN     KmPost   \n",
      "51273  Z8913    25.500  LRP025a  22.382083  90.841611  NaN     Others   \n",
      "\n",
      "                                                    name   length  \n",
      "0      Start of Road  after Jatrabari Flyover infront...  462.254  \n",
      "1                                            Box Culvert  462.254  \n",
      "2                                Intersection with Z1101  462.254  \n",
      "3                                        Km post missing  462.254  \n",
      "4                                        Km post missing  462.254  \n",
      "...                                                  ...      ...  \n",
      "51269                                    Km post missing   25.500  \n",
      "51270                                        Sluice gate   25.500  \n",
      "51271                                    Km post missing   25.500  \n",
      "51272                                    Km post Missing   25.500  \n",
      "51273                             Road Wash out by river   25.500  \n",
      "\n",
      "[33050 rows x 9 columns]\n"
     ]
    }
   ],
   "execution_count": 3
  },
  {
   "metadata": {
    "ExecuteTime": {
     "end_time": "2025-03-21T14:50:21.036667Z",
     "start_time": "2025-03-21T14:50:21.015951Z"
    }
   },
   "cell_type": "code",
   "source": "filtered_df[\"road\"].value_counts()",
   "id": "63bd17285d611ea1",
   "outputs": [
    {
     "data": {
      "text/plain": [
       "road\n",
       "N1       1339\n",
       "N5       1217\n",
       "N2        886\n",
       "N7        533\n",
       "N8        503\n",
       "         ... \n",
       "Z4011      37\n",
       "Z7610      36\n",
       "Z8040      34\n",
       "R544       30\n",
       "Z1124      22\n",
       "Name: count, Length: 267, dtype: int64"
      ]
     },
     "execution_count": 5,
     "metadata": {},
     "output_type": "execute_result"
    }
   ],
   "execution_count": 5
  },
  {
   "metadata": {
    "ExecuteTime": {
     "end_time": "2025-03-21T14:50:28.754964Z",
     "start_time": "2025-03-21T14:50:28.736374Z"
    }
   },
   "cell_type": "code",
   "source": "filtered_df",
   "id": "62f3ba283ee2042c",
   "outputs": [
    {
     "data": {
      "text/plain": [
       "        road  chainage      lrp        lat        lon  gap       type  \\\n",
       "0         N1     0.000     LRPS  23.706028  90.443333  NaN     Others   \n",
       "1         N1     0.814    LRPSa  23.702917  90.450417  NaN    Culvert   \n",
       "2         N1     0.822    LRPSb  23.702778  90.450472  NaN  CrossRoad   \n",
       "3         N1     1.000   LRP001  23.702139  90.451972  NaN     KmPost   \n",
       "4         N1     2.000   LRP002  23.697889  90.460583  NaN     KmPost   \n",
       "...      ...       ...      ...        ...        ...  ...        ...   \n",
       "51269  Z8913    23.000   LRP023  22.360750  90.832777  NaN     KmPost   \n",
       "51270  Z8913    23.088  LRP023a  22.361500  90.832833  NaN    Culvert   \n",
       "51271  Z8913    24.000   LRP024  22.368916  90.836639  NaN     KmPost   \n",
       "51272  Z8913    25.000   LRP025  22.377305  90.839972  NaN     KmPost   \n",
       "51273  Z8913    25.500  LRP025a  22.382083  90.841611  NaN     Others   \n",
       "\n",
       "                                                    name   length  \n",
       "0      Start of Road  after Jatrabari Flyover infront...  462.254  \n",
       "1                                            Box Culvert  462.254  \n",
       "2                                Intersection with Z1101  462.254  \n",
       "3                                        Km post missing  462.254  \n",
       "4                                        Km post missing  462.254  \n",
       "...                                                  ...      ...  \n",
       "51269                                    Km post missing   25.500  \n",
       "51270                                        Sluice gate   25.500  \n",
       "51271                                    Km post missing   25.500  \n",
       "51272                                    Km post Missing   25.500  \n",
       "51273                             Road Wash out by river   25.500  \n",
       "\n",
       "[33050 rows x 9 columns]"
      ],
      "text/html": [
       "<div>\n",
       "<style scoped>\n",
       "    .dataframe tbody tr th:only-of-type {\n",
       "        vertical-align: middle;\n",
       "    }\n",
       "\n",
       "    .dataframe tbody tr th {\n",
       "        vertical-align: top;\n",
       "    }\n",
       "\n",
       "    .dataframe thead th {\n",
       "        text-align: right;\n",
       "    }\n",
       "</style>\n",
       "<table border=\"1\" class=\"dataframe\">\n",
       "  <thead>\n",
       "    <tr style=\"text-align: right;\">\n",
       "      <th></th>\n",
       "      <th>road</th>\n",
       "      <th>chainage</th>\n",
       "      <th>lrp</th>\n",
       "      <th>lat</th>\n",
       "      <th>lon</th>\n",
       "      <th>gap</th>\n",
       "      <th>type</th>\n",
       "      <th>name</th>\n",
       "      <th>length</th>\n",
       "    </tr>\n",
       "  </thead>\n",
       "  <tbody>\n",
       "    <tr>\n",
       "      <th>0</th>\n",
       "      <td>N1</td>\n",
       "      <td>0.000</td>\n",
       "      <td>LRPS</td>\n",
       "      <td>23.706028</td>\n",
       "      <td>90.443333</td>\n",
       "      <td>NaN</td>\n",
       "      <td>Others</td>\n",
       "      <td>Start of Road  after Jatrabari Flyover infront...</td>\n",
       "      <td>462.254</td>\n",
       "    </tr>\n",
       "    <tr>\n",
       "      <th>1</th>\n",
       "      <td>N1</td>\n",
       "      <td>0.814</td>\n",
       "      <td>LRPSa</td>\n",
       "      <td>23.702917</td>\n",
       "      <td>90.450417</td>\n",
       "      <td>NaN</td>\n",
       "      <td>Culvert</td>\n",
       "      <td>Box Culvert</td>\n",
       "      <td>462.254</td>\n",
       "    </tr>\n",
       "    <tr>\n",
       "      <th>2</th>\n",
       "      <td>N1</td>\n",
       "      <td>0.822</td>\n",
       "      <td>LRPSb</td>\n",
       "      <td>23.702778</td>\n",
       "      <td>90.450472</td>\n",
       "      <td>NaN</td>\n",
       "      <td>CrossRoad</td>\n",
       "      <td>Intersection with Z1101</td>\n",
       "      <td>462.254</td>\n",
       "    </tr>\n",
       "    <tr>\n",
       "      <th>3</th>\n",
       "      <td>N1</td>\n",
       "      <td>1.000</td>\n",
       "      <td>LRP001</td>\n",
       "      <td>23.702139</td>\n",
       "      <td>90.451972</td>\n",
       "      <td>NaN</td>\n",
       "      <td>KmPost</td>\n",
       "      <td>Km post missing</td>\n",
       "      <td>462.254</td>\n",
       "    </tr>\n",
       "    <tr>\n",
       "      <th>4</th>\n",
       "      <td>N1</td>\n",
       "      <td>2.000</td>\n",
       "      <td>LRP002</td>\n",
       "      <td>23.697889</td>\n",
       "      <td>90.460583</td>\n",
       "      <td>NaN</td>\n",
       "      <td>KmPost</td>\n",
       "      <td>Km post missing</td>\n",
       "      <td>462.254</td>\n",
       "    </tr>\n",
       "    <tr>\n",
       "      <th>...</th>\n",
       "      <td>...</td>\n",
       "      <td>...</td>\n",
       "      <td>...</td>\n",
       "      <td>...</td>\n",
       "      <td>...</td>\n",
       "      <td>...</td>\n",
       "      <td>...</td>\n",
       "      <td>...</td>\n",
       "      <td>...</td>\n",
       "    </tr>\n",
       "    <tr>\n",
       "      <th>51269</th>\n",
       "      <td>Z8913</td>\n",
       "      <td>23.000</td>\n",
       "      <td>LRP023</td>\n",
       "      <td>22.360750</td>\n",
       "      <td>90.832777</td>\n",
       "      <td>NaN</td>\n",
       "      <td>KmPost</td>\n",
       "      <td>Km post missing</td>\n",
       "      <td>25.500</td>\n",
       "    </tr>\n",
       "    <tr>\n",
       "      <th>51270</th>\n",
       "      <td>Z8913</td>\n",
       "      <td>23.088</td>\n",
       "      <td>LRP023a</td>\n",
       "      <td>22.361500</td>\n",
       "      <td>90.832833</td>\n",
       "      <td>NaN</td>\n",
       "      <td>Culvert</td>\n",
       "      <td>Sluice gate</td>\n",
       "      <td>25.500</td>\n",
       "    </tr>\n",
       "    <tr>\n",
       "      <th>51271</th>\n",
       "      <td>Z8913</td>\n",
       "      <td>24.000</td>\n",
       "      <td>LRP024</td>\n",
       "      <td>22.368916</td>\n",
       "      <td>90.836639</td>\n",
       "      <td>NaN</td>\n",
       "      <td>KmPost</td>\n",
       "      <td>Km post missing</td>\n",
       "      <td>25.500</td>\n",
       "    </tr>\n",
       "    <tr>\n",
       "      <th>51272</th>\n",
       "      <td>Z8913</td>\n",
       "      <td>25.000</td>\n",
       "      <td>LRP025</td>\n",
       "      <td>22.377305</td>\n",
       "      <td>90.839972</td>\n",
       "      <td>NaN</td>\n",
       "      <td>KmPost</td>\n",
       "      <td>Km post Missing</td>\n",
       "      <td>25.500</td>\n",
       "    </tr>\n",
       "    <tr>\n",
       "      <th>51273</th>\n",
       "      <td>Z8913</td>\n",
       "      <td>25.500</td>\n",
       "      <td>LRP025a</td>\n",
       "      <td>22.382083</td>\n",
       "      <td>90.841611</td>\n",
       "      <td>NaN</td>\n",
       "      <td>Others</td>\n",
       "      <td>Road Wash out by river</td>\n",
       "      <td>25.500</td>\n",
       "    </tr>\n",
       "  </tbody>\n",
       "</table>\n",
       "<p>33050 rows × 9 columns</p>\n",
       "</div>"
      ]
     },
     "execution_count": 6,
     "metadata": {},
     "output_type": "execute_result"
    }
   ],
   "execution_count": 6
  },
  {
   "metadata": {
    "ExecuteTime": {
     "end_time": "2025-03-21T14:50:37.128258Z",
     "start_time": "2025-03-21T14:50:37.121348Z"
    }
   },
   "cell_type": "code",
   "source": "road_list = filtered_df[\"road\"].unique()",
   "id": "e55fda04553c9668",
   "outputs": [],
   "execution_count": 7
  },
  {
   "metadata": {
    "ExecuteTime": {
     "end_time": "2025-03-21T14:50:38.748762Z",
     "start_time": "2025-03-21T14:50:38.741220Z"
    }
   },
   "cell_type": "code",
   "source": "filtered_df[\"road\"].unique()",
   "id": "8e8107e82caf8be6",
   "outputs": [
    {
     "data": {
      "text/plain": [
       "array(['N1', 'N102', 'N104', 'N105', 'N106', 'N2', 'N204', 'N207', 'N208',\n",
       "       'N3', 'N4', 'N401', 'N402', 'N5', 'N502', 'N506', 'N507', 'N509',\n",
       "       'N6', 'N7', 'N702', 'N704', 'N706', 'N709', 'N8', 'N804', 'N805',\n",
       "       'N806', 'N809', 'R114', 'R140', 'R141', 'R142', 'R151', 'R152',\n",
       "       'R160', 'R161', 'R162', 'R163', 'R170', 'R203', 'R211', 'R220',\n",
       "       'R240', 'R241', 'R250', 'R280', 'R281', 'R301', 'R310', 'R312',\n",
       "       'R313', 'R314', 'R315', 'R360', 'R370', 'R371', 'R460', 'R504',\n",
       "       'R506', 'R544', 'R545', 'R547', 'R548', 'R550', 'R556', 'R560',\n",
       "       'R585', 'R601', 'R603', 'R604', 'R605', 'R685', 'R710', 'R720',\n",
       "       'R745', 'R747', 'R748', 'R749', 'R755', 'R760', 'R765', 'R770',\n",
       "       'R771', 'R812', 'R820', 'R850', 'R860', 'R870', 'R880', 'R881',\n",
       "       'R890', 'Z1004', 'Z1005', 'Z1031', 'Z1033', 'Z1034', 'Z1041',\n",
       "       'Z1042', 'Z1044', 'Z1048', 'Z1065', 'Z1069', 'Z1084', 'Z1098',\n",
       "       'Z1124', 'Z1206', 'Z1221', 'Z1401', 'Z1402', 'Z1405', 'Z1407',\n",
       "       'Z1412', 'Z1422', 'Z1424', 'Z1429', 'Z1430', 'Z1439', 'Z1441',\n",
       "       'Z1508', 'Z1510', 'Z1603', 'Z1608', 'Z1610', 'Z1612', 'Z1811',\n",
       "       'Z1812', 'Z1813', 'Z2002', 'Z2003', 'Z2013', 'Z2044', 'Z2801',\n",
       "       'Z2802', 'Z2807', 'Z2834', 'Z3024', 'Z3025', 'Z3030', 'Z3032',\n",
       "       'Z3033', 'Z3037', 'Z3601', 'Z3602', 'Z3603', 'Z3701', 'Z3704',\n",
       "       'Z3706', 'Z3707', 'Z3709', 'Z3710', 'Z3711', 'Z4011', 'Z4018',\n",
       "       'Z4021', 'Z4022', 'Z4101', 'Z4606', 'Z4607', 'Z4615', 'Z4801',\n",
       "       'Z5001', 'Z5002', 'Z5003', 'Z5006', 'Z5008', 'Z5010', 'Z5015',\n",
       "       'Z5018', 'Z5021', 'Z5025', 'Z5035', 'Z5039', 'Z5046', 'Z5049',\n",
       "       'Z5061', 'Z5072', 'Z5075', 'Z5202', 'Z5207', 'Z5209', 'Z5210',\n",
       "       'Z5211', 'Z5401', 'Z5452', 'Z5456', 'Z5509', 'Z5552', 'Z5554',\n",
       "       'Z5613', 'Z5621', 'Z5622', 'Z5624', 'Z5703', 'Z5706', 'Z5855',\n",
       "       'Z5856', 'Z6004', 'Z6006', 'Z6021', 'Z6031', 'Z6802', 'Z6805',\n",
       "       'Z6806', 'Z6809', 'Z6813', 'Z6852', 'Z6855', 'Z6856', 'Z7001',\n",
       "       'Z7004', 'Z7008', 'Z7012', 'Z7021', 'Z7023', 'Z7024', 'Z7030',\n",
       "       'Z7040', 'Z7043', 'Z7057', 'Z7102', 'Z7106', 'Z7108', 'Z7404',\n",
       "       'Z7405', 'Z7461', 'Z7489', 'Z7502', 'Z7506', 'Z7553', 'Z7602',\n",
       "       'Z7603', 'Z7604', 'Z7606', 'Z7610', 'Z7615', 'Z7617', 'Z7618',\n",
       "       'Z7701', 'Z7702', 'Z7704', 'Z7707', 'Z7710', 'Z7717', 'Z8011',\n",
       "       'Z8012', 'Z8031', 'Z8032', 'Z8033', 'Z8034', 'Z8037', 'Z8040',\n",
       "       'Z8043', 'Z8044', 'Z8052', 'Z8056', 'Z8065', 'Z8121', 'Z8402',\n",
       "       'Z8603', 'Z8701', 'Z8708', 'Z8806', 'Z8810', 'Z8814', 'Z8910',\n",
       "       'Z8913'], dtype=object)"
      ]
     },
     "execution_count": 8,
     "metadata": {},
     "output_type": "execute_result"
    }
   ],
   "execution_count": 8
  },
  {
   "metadata": {
    "ExecuteTime": {
     "end_time": "2025-03-21T14:50:40.941746Z",
     "start_time": "2025-03-21T14:50:40.936974Z"
    }
   },
   "cell_type": "code",
   "source": "road_list",
   "id": "31c801a73135d774",
   "outputs": [
    {
     "data": {
      "text/plain": [
       "array(['N1', 'N102', 'N104', 'N105', 'N106', 'N2', 'N204', 'N207', 'N208',\n",
       "       'N3', 'N4', 'N401', 'N402', 'N5', 'N502', 'N506', 'N507', 'N509',\n",
       "       'N6', 'N7', 'N702', 'N704', 'N706', 'N709', 'N8', 'N804', 'N805',\n",
       "       'N806', 'N809', 'R114', 'R140', 'R141', 'R142', 'R151', 'R152',\n",
       "       'R160', 'R161', 'R162', 'R163', 'R170', 'R203', 'R211', 'R220',\n",
       "       'R240', 'R241', 'R250', 'R280', 'R281', 'R301', 'R310', 'R312',\n",
       "       'R313', 'R314', 'R315', 'R360', 'R370', 'R371', 'R460', 'R504',\n",
       "       'R506', 'R544', 'R545', 'R547', 'R548', 'R550', 'R556', 'R560',\n",
       "       'R585', 'R601', 'R603', 'R604', 'R605', 'R685', 'R710', 'R720',\n",
       "       'R745', 'R747', 'R748', 'R749', 'R755', 'R760', 'R765', 'R770',\n",
       "       'R771', 'R812', 'R820', 'R850', 'R860', 'R870', 'R880', 'R881',\n",
       "       'R890', 'Z1004', 'Z1005', 'Z1031', 'Z1033', 'Z1034', 'Z1041',\n",
       "       'Z1042', 'Z1044', 'Z1048', 'Z1065', 'Z1069', 'Z1084', 'Z1098',\n",
       "       'Z1124', 'Z1206', 'Z1221', 'Z1401', 'Z1402', 'Z1405', 'Z1407',\n",
       "       'Z1412', 'Z1422', 'Z1424', 'Z1429', 'Z1430', 'Z1439', 'Z1441',\n",
       "       'Z1508', 'Z1510', 'Z1603', 'Z1608', 'Z1610', 'Z1612', 'Z1811',\n",
       "       'Z1812', 'Z1813', 'Z2002', 'Z2003', 'Z2013', 'Z2044', 'Z2801',\n",
       "       'Z2802', 'Z2807', 'Z2834', 'Z3024', 'Z3025', 'Z3030', 'Z3032',\n",
       "       'Z3033', 'Z3037', 'Z3601', 'Z3602', 'Z3603', 'Z3701', 'Z3704',\n",
       "       'Z3706', 'Z3707', 'Z3709', 'Z3710', 'Z3711', 'Z4011', 'Z4018',\n",
       "       'Z4021', 'Z4022', 'Z4101', 'Z4606', 'Z4607', 'Z4615', 'Z4801',\n",
       "       'Z5001', 'Z5002', 'Z5003', 'Z5006', 'Z5008', 'Z5010', 'Z5015',\n",
       "       'Z5018', 'Z5021', 'Z5025', 'Z5035', 'Z5039', 'Z5046', 'Z5049',\n",
       "       'Z5061', 'Z5072', 'Z5075', 'Z5202', 'Z5207', 'Z5209', 'Z5210',\n",
       "       'Z5211', 'Z5401', 'Z5452', 'Z5456', 'Z5509', 'Z5552', 'Z5554',\n",
       "       'Z5613', 'Z5621', 'Z5622', 'Z5624', 'Z5703', 'Z5706', 'Z5855',\n",
       "       'Z5856', 'Z6004', 'Z6006', 'Z6021', 'Z6031', 'Z6802', 'Z6805',\n",
       "       'Z6806', 'Z6809', 'Z6813', 'Z6852', 'Z6855', 'Z6856', 'Z7001',\n",
       "       'Z7004', 'Z7008', 'Z7012', 'Z7021', 'Z7023', 'Z7024', 'Z7030',\n",
       "       'Z7040', 'Z7043', 'Z7057', 'Z7102', 'Z7106', 'Z7108', 'Z7404',\n",
       "       'Z7405', 'Z7461', 'Z7489', 'Z7502', 'Z7506', 'Z7553', 'Z7602',\n",
       "       'Z7603', 'Z7604', 'Z7606', 'Z7610', 'Z7615', 'Z7617', 'Z7618',\n",
       "       'Z7701', 'Z7702', 'Z7704', 'Z7707', 'Z7710', 'Z7717', 'Z8011',\n",
       "       'Z8012', 'Z8031', 'Z8032', 'Z8033', 'Z8034', 'Z8037', 'Z8040',\n",
       "       'Z8043', 'Z8044', 'Z8052', 'Z8056', 'Z8065', 'Z8121', 'Z8402',\n",
       "       'Z8603', 'Z8701', 'Z8708', 'Z8806', 'Z8810', 'Z8814', 'Z8910',\n",
       "       'Z8913'], dtype=object)"
      ]
     },
     "execution_count": 9,
     "metadata": {},
     "output_type": "execute_result"
    }
   ],
   "execution_count": 9
  },
  {
   "metadata": {
    "ExecuteTime": {
     "end_time": "2025-03-21T14:50:48.975400Z",
     "start_time": "2025-03-21T14:50:48.958746Z"
    }
   },
   "cell_type": "code",
   "source": [
    "selected_roads = [r for r in road_list if (\"N1\" in r) or (\"N2\" in r)]\n",
    "selected_roads"
   ],
   "id": "11d70a61242d9d1",
   "outputs": [
    {
     "data": {
      "text/plain": [
       "['N1', 'N102', 'N104', 'N105', 'N106', 'N2', 'N204', 'N207', 'N208']"
      ]
     },
     "execution_count": 11,
     "metadata": {},
     "output_type": "execute_result"
    }
   ],
   "execution_count": 11
  }
 ],
 "metadata": {
  "kernelspec": {
   "display_name": "Python 3",
   "language": "python",
   "name": "python3"
  },
  "language_info": {
   "codemirror_mode": {
    "name": "ipython",
    "version": 2
   },
   "file_extension": ".py",
   "mimetype": "text/x-python",
   "name": "python",
   "nbconvert_exporter": "python",
   "pygments_lexer": "ipython2",
   "version": "2.7.6"
  }
 },
 "nbformat": 4,
 "nbformat_minor": 5
}
