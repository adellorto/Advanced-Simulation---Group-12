{
 "cells": [
  {
   "cell_type": "code",
   "id": "initial_id",
   "metadata": {
    "collapsed": true,
    "ExecuteTime": {
     "end_time": "2025-03-20T22:06:56.020658Z",
     "start_time": "2025-03-20T22:06:56.018096Z"
    }
   },
   "source": [
    "import numpy as np\n",
    "import pandas as pd\n",
    "import requests\n",
    "import math\n",
    "import geopandas as gpd\n",
    "import matplotlib.pyplot as plt\n",
    "import pyogrio\n",
    "import os\n",
    "from shapely.geometry import Point\n"
   ],
   "outputs": [],
   "execution_count": 2
  },
  {
   "metadata": {
    "ExecuteTime": {
     "end_time": "2025-03-20T22:07:25.940547Z",
     "start_time": "2025-03-20T22:07:25.724180Z"
    }
   },
   "cell_type": "code",
   "source": [
    "roads_gdf = gpd.read_file(\"../data/roads.shp\")\n",
    "print(\"CRS of the shapefile:\", roads_gdf.crs)"
   ],
   "id": "d417dcd5dcdaba25",
   "outputs": [
    {
     "name": "stdout",
     "output_type": "stream",
     "text": [
      "CRS of the shapefile: None\n"
     ]
    }
   ],
   "execution_count": 4
  }
 ],
 "metadata": {
  "kernelspec": {
   "display_name": "Python 3",
   "language": "python",
   "name": "python3"
  },
  "language_info": {
   "codemirror_mode": {
    "name": "ipython",
    "version": 2
   },
   "file_extension": ".py",
   "mimetype": "text/x-python",
   "name": "python",
   "nbconvert_exporter": "python",
   "pygments_lexer": "ipython2",
   "version": "2.7.6"
  }
 },
 "nbformat": 4,
 "nbformat_minor": 5
}
